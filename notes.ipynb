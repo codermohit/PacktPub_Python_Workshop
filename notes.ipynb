{
 "nbformat": 4,
 "nbformat_minor": 2,
 "metadata": {
  "language_info": {
   "name": "python",
   "codemirror_mode": {
    "name": "ipython",
    "version": 3
   },
   "version": "3.8.1-final"
  },
  "orig_nbformat": 2,
  "file_extension": ".py",
  "mimetype": "text/x-python",
  "name": "python",
  "npconvert_exporter": "python",
  "pygments_lexer": "ipython3",
  "version": 3,
  "kernelspec": {
   "name": "python38132bit70bc25b7fb3848799075e60176ed567b",
   "display_name": "Python 3.8.1 32-bit"
  }
 },
 "cells": [
  {
   "cell_type": "code",
   "execution_count": 2,
   "metadata": {},
   "outputs": [
    {
     "output_type": "stream",
     "name": "stdout",
     "text": "9.0\n"
    }
   ],
   "source": [
    "#Activity 1 : Assigning values to variables\n",
    "#Assign value to a variable 'x', increment the number, and perform additional operations\n",
    "x=14\n",
    "x+=1\n",
    "x=(x/5)**2\n",
    "print(x)"
   ]
  },
  {
   "cell_type": "code",
   "execution_count": 3,
   "metadata": {},
   "outputs": [
    {
     "output_type": "stream",
     "name": "stdout",
     "text": "['False', 'None', 'True', 'and', 'as', 'assert', 'async', 'await', 'break', 'class', 'continue', 'def', 'del', 'elif', 'else', 'except', 'finally', 'for', 'from', 'global', 'if', 'import', 'in', 'is', 'lambda', 'nonlocal', 'not', 'or', 'pass', 'raise', 'return', 'try', 'while', 'with', 'yield']\n"
    }
   ],
   "source": [
    "#using variable names\n",
    "#To see all python keywords\n",
    "import keyword\n",
    "print(keyword.kwlist)"
   ]
  },
  {
   "cell_type": "code",
   "execution_count": 4,
   "metadata": {},
   "outputs": [
    {
     "output_type": "error",
     "ename": "SyntaxError",
     "evalue": "invalid syntax (<ipython-input-4-327b9e66b64e>, line 3)",
     "traceback": [
      "\u001b[1;36m  File \u001b[1;32m\"<ipython-input-4-327b9e66b64e>\"\u001b[1;36m, line \u001b[1;32m3\u001b[0m\n\u001b[1;33m    1st_number=1\u001b[0m\n\u001b[1;37m     ^\u001b[0m\n\u001b[1;31mSyntaxError\u001b[0m\u001b[1;31m:\u001b[0m invalid syntax\n"
     ]
    }
   ],
   "source": [
    "#Below are some common errors related to variable\n",
    "#Exercie 4\n",
    "1st_number=1"
   ]
  },
  {
   "cell_type": "code",
   "execution_count": 5,
   "metadata": {},
   "outputs": [],
   "source": [
    "#No error in this\n",
    "first_number=1"
   ]
  },
  {
   "cell_type": "code",
   "execution_count": 6,
   "metadata": {},
   "outputs": [
    {
     "output_type": "error",
     "ename": "SyntaxError",
     "evalue": "invalid syntax (<ipython-input-6-745abef16e01>, line 2)",
     "traceback": [
      "\u001b[1;36m  File \u001b[1;32m\"<ipython-input-6-745abef16e01>\"\u001b[1;36m, line \u001b[1;32m2\u001b[0m\n\u001b[1;33m    my_$=1\u001b[0m\n\u001b[1;37m       ^\u001b[0m\n\u001b[1;31mSyntaxError\u001b[0m\u001b[1;31m:\u001b[0m invalid syntax\n"
     ]
    }
   ],
   "source": [
    "#Another variable name error\n",
    "#Special characters cannot be used\n",
    "my_$=1"
   ]
  },
  {
   "cell_type": "code",
   "execution_count": 8,
   "metadata": {},
   "outputs": [
    {
     "output_type": "stream",
     "name": "stdout",
     "text": "6\n"
    }
   ],
   "source": [
    "#Multiple variables\n",
    "#Exercise 5\n",
    "x=5\n",
    "y=2\n",
    "print(x+x-y**2)"
   ]
  },
  {
   "cell_type": "code",
   "execution_count": 9,
   "metadata": {},
   "outputs": [
    {
     "output_type": "execute_result",
     "data": {
      "text/plain": "1"
     },
     "metadata": {},
     "execution_count": 9
    }
   ],
   "source": [
    "#Exercise 5 continued\n",
    "#Assigning many variables in one go\n",
    "x,y=8,5\n",
    "x//y"
   ]
  },
  {
   "cell_type": "code",
   "execution_count": 12,
   "metadata": {},
   "outputs": [
    {
     "output_type": "execute_result",
     "data": {
      "text/plain": "5.385164807134504"
     },
     "metadata": {},
     "execution_count": 12
    }
   ],
   "source": [
    "#Activity 2: Finding a solution using pythagorean theorem in Python\n",
    "\"\"\"We are using Pythagorean Theorem\"\"\"\n",
    "#Initialize the values\n",
    "x,y,z=2,3,4\n",
    "#Pythagorean Theorem in 3 dimensions\n",
    "w_squared= x**2 + y**2 + z**2\n",
    "#The square root gives the distance\n",
    "w=w_squared**0.5\n",
    "#Shows The distance\n",
    "w"
   ]
  },
  {
   "cell_type": "code",
   "execution_count": 14,
   "metadata": {},
   "outputs": [
    {
     "output_type": "stream",
     "name": "stdout",
     "text": "Mohit's\n"
    }
   ],
   "source": [
    "#Strings: Concatenation, Methods, and input()\n",
    "\"\"\"Using a escape sequence\"\"\"\n",
    "bookstore='Mohit\\'s'\n",
    "print(bookstore)"
   ]
  },
  {
   "cell_type": "code",
   "execution_count": 15,
   "metadata": {},
   "outputs": [
    {
     "output_type": "stream",
     "name": "stdout",
     "text": "Hello Mohit\n"
    }
   ],
   "source": [
    "#Using strings with arithmatic operators\n",
    "#With concatenation\n",
    "greetings='Hello'\n",
    "print(greetings + \" Mohit\")"
   ]
  },
  {
   "cell_type": "code",
   "execution_count": 16,
   "metadata": {},
   "outputs": [
    {
     "output_type": "stream",
     "name": "stdout",
     "text": "HelloHelloHelloHelloHello\n"
    }
   ],
   "source": [
    "#With * multiplication operator\n",
    "greetings='Hello'\n",
    "print(greetings*5)"
   ]
  },
  {
   "cell_type": "code",
   "execution_count": 4,
   "metadata": {},
   "outputs": [
    {
     "output_type": "stream",
     "name": "stdout",
     "text": "Hi my name is Mohit . Nice to meet you\n"
    }
   ],
   "source": [
    "#string interpolation is used to add variable with a string\n",
    "#Using comma , it also adds spaces\n",
    "my_name='Mohit'\n",
    "print(\"Hi my name is\",my_name,\". Nice to meet you\")"
   ]
  },
  {
   "cell_type": "code",
   "execution_count": 9,
   "metadata": {},
   "outputs": [
    {
     "output_type": "stream",
     "name": "stdout",
     "text": "The owner of the store is Mohit and he is 17 year old\n"
    }
   ],
   "source": [
    "#USing format\n",
    "#Define variables, inside string use {} to add the variable and outside string use .format(here lie values in order)\n",
    "owner=\"Mohit\"\n",
    "age=17\n",
    "print(\"The owner of the store is {} and he is {} year old\".format(owner,age))"
   ]
  },
  {
   "cell_type": "code",
   "execution_count": 11,
   "metadata": {},
   "outputs": [
    {
     "output_type": "stream",
     "name": "stdout",
     "text": "The no. of alphabets in string sentence are  42\n"
    }
   ],
   "source": [
    "#Using the len() function\n",
    "sentence=\"My name is Mohit and I am learning to code\"\n",
    "print(\"The no. of alphabets in string sentence are \",len(sentence))"
   ]
  },
  {
   "cell_type": "code",
   "execution_count": 14,
   "metadata": {},
   "outputs": [
    {
     "output_type": "execute_result",
     "data": {
      "text/plain": "'Mohit'"
     },
     "metadata": {},
     "execution_count": 14
    }
   ],
   "source": [
    "#STRING METHODS \n",
    "#Using the .capitalize() method. It capitalizes the first letter of the string\n",
    "my_name=\"mohit\"\n",
    "my_name.capitalize()"
   ]
  },
  {
   "cell_type": "code",
   "execution_count": 15,
   "metadata": {},
   "outputs": [
    {
     "output_type": "execute_result",
     "data": {
      "text/plain": "'mohit'"
     },
     "metadata": {},
     "execution_count": 15
    }
   ],
   "source": [
    "#Using .lower() method\n",
    "my_name=\"MOHIT\"\n",
    "my_name.lower()"
   ]
  },
  {
   "cell_type": "code",
   "execution_count": 16,
   "metadata": {},
   "outputs": [
    {
     "output_type": "execute_result",
     "data": {
      "text/plain": "'MOHIT'"
     },
     "metadata": {},
     "execution_count": 16
    }
   ],
   "source": [
    "#using .upper() method\n",
    "my_name.upper()"
   ]
  },
  {
   "cell_type": "code",
   "execution_count": 21,
   "metadata": {},
   "outputs": [
    {
     "output_type": "execute_result",
     "data": {
      "text/plain": "2"
     },
     "metadata": {},
     "execution_count": 21
    }
   ],
   "source": [
    "#Using count() method\n",
    "#It's case sensitive\n",
    "my_name=\"Mohit Yadav\"\n",
    "my_name.count(\"a\")"
   ]
  },
  {
   "cell_type": "code",
   "execution_count": 1,
   "metadata": {},
   "outputs": [
    {
     "output_type": "stream",
     "name": "stdout",
     "text": "55\n"
    }
   ],
   "source": [
    "#Types and casting \n",
    "#'5' and 5 different\n",
    "#Can change their data types with special keywords\n",
    "a=\"5\"\n",
    "type(a)\n",
    "#which is string\n",
    "print(a+a)"
   ]
  },
  {
   "cell_type": "code",
   "execution_count": 2,
   "metadata": {},
   "outputs": [
    {
     "output_type": "stream",
     "name": "stdout",
     "text": "10\n"
    }
   ],
   "source": [
    "#Using int() with a\n",
    "print(int(a)+int(a))"
   ]
  },
  {
   "cell_type": "code",
   "execution_count": 3,
   "metadata": {},
   "outputs": [
    {
     "output_type": "stream",
     "name": "stdout",
     "text": "what is your name?\n"
    }
   ],
   "source": [
    "#Using imput function\n",
    "#choose question to ask\n",
    "print(\"what is your name?\")\n",
    ""
   ]
  },
  {
   "cell_type": "code",
   "execution_count": 7,
   "metadata": {},
   "outputs": [],
   "source": [
    "#variable to store answer\n",
    "name=input(\"Enter your name: \")\n",
    "#I entered Mohit"
   ]
  },
  {
   "cell_type": "code",
   "execution_count": 8,
   "metadata": {},
   "outputs": [
    {
     "output_type": "stream",
     "name": "stdout",
     "text": "Hi Mohit\n"
    }
   ],
   "source": [
    "#Usign the input\n",
    "print(\"Hi\",name)"
   ]
  },
  {
   "cell_type": "code",
   "execution_count": 10,
   "metadata": {},
   "outputs": [
    {
     "output_type": "stream",
     "name": "stdout",
     "text": "How was your day? Rate between 1 to 10\n"
    }
   ],
   "source": [
    "#Activity 3: Using the input() Function to Rate Your Day\n",
    "print(\"How was your day? Rate between 1 to 10\")"
   ]
  },
  {
   "cell_type": "code",
   "execution_count": 11,
   "metadata": {},
   "outputs": [],
   "source": [
    "rate=input()\n",
    "#I gave an input of 7"
   ]
  },
  {
   "cell_type": "code",
   "execution_count": 12,
   "metadata": {},
   "outputs": [
    {
     "output_type": "stream",
     "name": "stdout",
     "text": "You gave a rating of 7\n"
    }
   ],
   "source": [
    "print(\"You gave a rating of {}\".format(rate))"
   ]
  },
  {
   "cell_type": "code",
   "execution_count": 14,
   "metadata": {},
   "outputs": [
    {
     "output_type": "execute_result",
     "data": {
      "text/plain": "'h'"
     },
     "metadata": {},
     "execution_count": 14
    }
   ],
   "source": [
    "#Indexing\n",
    "name=\"Mohit Yadav\"\n",
    "name[2]"
   ]
  },
  {
   "cell_type": "code",
   "execution_count": 16,
   "metadata": {},
   "outputs": [
    {
     "output_type": "execute_result",
     "data": {
      "text/plain": "'t Y'"
     },
     "metadata": {},
     "execution_count": 16
    }
   ],
   "source": [
    "#Slicing\n",
    "#Space is also counted\n",
    "name[4:7]"
   ]
  },
  {
   "cell_type": "code",
   "execution_count": 17,
   "metadata": {},
   "outputs": [
    {
     "output_type": "execute_result",
     "data": {
      "text/plain": "'Mohit Y'"
     },
     "metadata": {},
     "execution_count": 17
    }
   ],
   "source": [
    "#other ways of slicing\n",
    "#To get n letter from beginning\n",
    "name[:7]"
   ]
  },
  {
   "cell_type": "code",
   "execution_count": 21,
   "metadata": {},
   "outputs": [
    {
     "output_type": "execute_result",
     "data": {
      "text/plain": "'dav'"
     },
     "metadata": {},
     "execution_count": 21
    }
   ],
   "source": [
    "#To get letters from the end\n",
    "#indexing start from -1 from end\n",
    "name[-3:]"
   ]
  },
  {
   "cell_type": "code",
   "execution_count": null,
   "metadata": {},
   "outputs": [],
   "source": []
  }
 ]
}