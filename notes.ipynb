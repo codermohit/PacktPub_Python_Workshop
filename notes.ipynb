{
 "nbformat": 4,
 "nbformat_minor": 2,
 "metadata": {
  "language_info": {
   "name": "python",
   "codemirror_mode": {
    "name": "ipython",
    "version": 3
   },
   "version": "3.8.1-final"
  },
  "orig_nbformat": 2,
  "file_extension": ".py",
  "mimetype": "text/x-python",
  "name": "python",
  "npconvert_exporter": "python",
  "pygments_lexer": "ipython3",
  "version": 3,
  "kernelspec": {
   "name": "python38132bit70bc25b7fb3848799075e60176ed567b",
   "display_name": "Python 3.8.1 32-bit"
  }
 },
 "cells": [
  {
   "cell_type": "code",
   "execution_count": 2,
   "metadata": {},
   "outputs": [
    {
     "output_type": "stream",
     "name": "stdout",
     "text": "9.0\n"
    }
   ],
   "source": [
    "#Activity 1 : Assigning values to variables\n",
    "#Assign value to a variable 'x', increment the number, and perform additional operations\n",
    "x=14\n",
    "x+=1\n",
    "x=(x/5)**2\n",
    "print(x)"
   ]
  },
  {
   "cell_type": "code",
   "execution_count": 3,
   "metadata": {},
   "outputs": [
    {
     "output_type": "stream",
     "name": "stdout",
     "text": "['False', 'None', 'True', 'and', 'as', 'assert', 'async', 'await', 'break', 'class', 'continue', 'def', 'del', 'elif', 'else', 'except', 'finally', 'for', 'from', 'global', 'if', 'import', 'in', 'is', 'lambda', 'nonlocal', 'not', 'or', 'pass', 'raise', 'return', 'try', 'while', 'with', 'yield']\n"
    }
   ],
   "source": [
    "#using variable names\n",
    "#To see all python keywords\n",
    "import keyword\n",
    "print(keyword.kwlist)"
   ]
  },
  {
   "cell_type": "code",
   "execution_count": 4,
   "metadata": {},
   "outputs": [
    {
     "output_type": "error",
     "ename": "SyntaxError",
     "evalue": "invalid syntax (<ipython-input-4-327b9e66b64e>, line 3)",
     "traceback": [
      "\u001b[1;36m  File \u001b[1;32m\"<ipython-input-4-327b9e66b64e>\"\u001b[1;36m, line \u001b[1;32m3\u001b[0m\n\u001b[1;33m    1st_number=1\u001b[0m\n\u001b[1;37m     ^\u001b[0m\n\u001b[1;31mSyntaxError\u001b[0m\u001b[1;31m:\u001b[0m invalid syntax\n"
     ]
    }
   ],
   "source": [
    "#Below are some common errors related to variable\n",
    "#Exercie 4\n",
    "1st_number=1"
   ]
  },
  {
   "cell_type": "code",
   "execution_count": 5,
   "metadata": {},
   "outputs": [],
   "source": [
    "#No error in this\n",
    "first_number=1"
   ]
  },
  {
   "cell_type": "code",
   "execution_count": 6,
   "metadata": {},
   "outputs": [
    {
     "output_type": "error",
     "ename": "SyntaxError",
     "evalue": "invalid syntax (<ipython-input-6-745abef16e01>, line 2)",
     "traceback": [
      "\u001b[1;36m  File \u001b[1;32m\"<ipython-input-6-745abef16e01>\"\u001b[1;36m, line \u001b[1;32m2\u001b[0m\n\u001b[1;33m    my_$=1\u001b[0m\n\u001b[1;37m       ^\u001b[0m\n\u001b[1;31mSyntaxError\u001b[0m\u001b[1;31m:\u001b[0m invalid syntax\n"
     ]
    }
   ],
   "source": [
    "#Another variable name error\n",
    "#Special characters cannot be used\n",
    "my_$=1"
   ]
  },
  {
   "cell_type": "code",
   "execution_count": 8,
   "metadata": {},
   "outputs": [
    {
     "output_type": "stream",
     "name": "stdout",
     "text": "6\n"
    }
   ],
   "source": [
    "#Multiple variables\n",
    "#Exercise 5\n",
    "x=5\n",
    "y=2\n",
    "print(x+x-y**2)"
   ]
  },
  {
   "cell_type": "code",
   "execution_count": 9,
   "metadata": {},
   "outputs": [
    {
     "output_type": "execute_result",
     "data": {
      "text/plain": "1"
     },
     "metadata": {},
     "execution_count": 9
    }
   ],
   "source": [
    "#Exercise 5 continued\n",
    "#Assigning many variables in one go\n",
    "x,y=8,5\n",
    "x//y"
   ]
  },
  {
   "cell_type": "code",
   "execution_count": 12,
   "metadata": {},
   "outputs": [
    {
     "output_type": "execute_result",
     "data": {
      "text/plain": "5.385164807134504"
     },
     "metadata": {},
     "execution_count": 12
    }
   ],
   "source": [
    "#Activity 2: Finding a solution using pythagorean theorem in Python\n",
    "\"\"\"We are using Pythagorean Theorem\"\"\"\n",
    "#Initialize the values\n",
    "x,y,z=2,3,4\n",
    "#Pythagorean Theorem in 3 dimensions\n",
    "w_squared= x**2 + y**2 + z**2\n",
    "#The square root gives the distance\n",
    "w=w_squared**0.5\n",
    "#Shows The distance\n",
    "w"
   ]
  },
  {
   "cell_type": "code",
   "execution_count": 14,
   "metadata": {},
   "outputs": [
    {
     "output_type": "stream",
     "name": "stdout",
     "text": "Mohit's\n"
    }
   ],
   "source": [
    "#Strings: Concatenation, Methods, and input()\n",
    "\"\"\"Using a escape sequence\"\"\"\n",
    "bookstore='Mohit\\'s'\n",
    "print(bookstore)"
   ]
  },
  {
   "cell_type": "code",
   "execution_count": 15,
   "metadata": {},
   "outputs": [
    {
     "output_type": "stream",
     "name": "stdout",
     "text": "Hello Mohit\n"
    }
   ],
   "source": [
    "#Using strings with arithmatic operators\n",
    "#With concatenation\n",
    "greetings='Hello'\n",
    "print(greetings + \" Mohit\")"
   ]
  },
  {
   "cell_type": "code",
   "execution_count": 16,
   "metadata": {},
   "outputs": [
    {
     "output_type": "stream",
     "name": "stdout",
     "text": "HelloHelloHelloHelloHello\n"
    }
   ],
   "source": [
    "#With * multiplication operator\n",
    "greetings='Hello'\n",
    "print(greetings*5)"
   ]
  },
  {
   "cell_type": "code",
   "execution_count": 4,
   "metadata": {},
   "outputs": [
    {
     "output_type": "stream",
     "name": "stdout",
     "text": "Hi my name is Mohit . Nice to meet you\n"
    }
   ],
   "source": [
    "#string interpolation is used to add variable with a string\n",
    "#Using comma , it also adds spaces\n",
    "my_name='Mohit'\n",
    "print(\"Hi my name is\",my_name,\". Nice to meet you\")"
   ]
  },
  {
   "cell_type": "code",
   "execution_count": 9,
   "metadata": {},
   "outputs": [
    {
     "output_type": "stream",
     "name": "stdout",
     "text": "The owner of the store is Mohit and he is 17 year old\n"
    }
   ],
   "source": [
    "#USing format\n",
    "#Define variables, inside string use {} to add the variable and outside string use .format(here lie values in order)\n",
    "owner=\"Mohit\"\n",
    "age=17\n",
    "print(\"The owner of the store is {} and he is {} year old\".format(owner,age))"
   ]
  },
  {
   "cell_type": "code",
   "execution_count": 11,
   "metadata": {},
   "outputs": [
    {
     "output_type": "stream",
     "name": "stdout",
     "text": "The no. of alphabets in string sentence are  42\n"
    }
   ],
   "source": [
    "#Using the len() function\n",
    "sentence=\"My name is Mohit and I am learning to code\"\n",
    "print(\"The no. of alphabets in string sentence are \",len(sentence))"
   ]
  },
  {
   "cell_type": "code",
   "execution_count": 14,
   "metadata": {},
   "outputs": [
    {
     "output_type": "execute_result",
     "data": {
      "text/plain": "'Mohit'"
     },
     "metadata": {},
     "execution_count": 14
    }
   ],
   "source": [
    "#STRING METHODS \n",
    "#Using the .capitalize() method. It capitalizes the first letter of the string\n",
    "my_name=\"mohit\"\n",
    "my_name.capitalize()"
   ]
  },
  {
   "cell_type": "code",
   "execution_count": 15,
   "metadata": {},
   "outputs": [
    {
     "output_type": "execute_result",
     "data": {
      "text/plain": "'mohit'"
     },
     "metadata": {},
     "execution_count": 15
    }
   ],
   "source": [
    "#Using .lower() method\n",
    "my_name=\"MOHIT\"\n",
    "my_name.lower()"
   ]
  },
  {
   "cell_type": "code",
   "execution_count": 16,
   "metadata": {},
   "outputs": [
    {
     "output_type": "execute_result",
     "data": {
      "text/plain": "'MOHIT'"
     },
     "metadata": {},
     "execution_count": 16
    }
   ],
   "source": [
    "#using .upper() method\n",
    "my_name.upper()"
   ]
  },
  {
   "cell_type": "code",
   "execution_count": 21,
   "metadata": {},
   "outputs": [
    {
     "output_type": "execute_result",
     "data": {
      "text/plain": "2"
     },
     "metadata": {},
     "execution_count": 21
    }
   ],
   "source": [
    "#Using count() method\n",
    "#It's case sensitive\n",
    "my_name=\"Mohit Yadav\"\n",
    "my_name.count(\"a\")"
   ]
  },
  {
   "cell_type": "code",
   "execution_count": 1,
   "metadata": {},
   "outputs": [
    {
     "output_type": "stream",
     "name": "stdout",
     "text": "55\n"
    }
   ],
   "source": [
    "#Types and casting \n",
    "#'5' and 5 different\n",
    "#Can change their data types with special keywords\n",
    "a=\"5\"\n",
    "type(a)\n",
    "#which is string\n",
    "print(a+a)"
   ]
  },
  {
   "cell_type": "code",
   "execution_count": 2,
   "metadata": {},
   "outputs": [
    {
     "output_type": "stream",
     "name": "stdout",
     "text": "10\n"
    }
   ],
   "source": [
    "#Using int() with a\n",
    "print(int(a)+int(a))"
   ]
  },
  {
   "cell_type": "code",
   "execution_count": 3,
   "metadata": {},
   "outputs": [
    {
     "output_type": "stream",
     "name": "stdout",
     "text": "what is your name?\n"
    }
   ],
   "source": [
    "#Using imput function\n",
    "#choose question to ask\n",
    "print(\"what is your name?\")\n",
    ""
   ]
  },
  {
   "cell_type": "code",
   "execution_count": 7,
   "metadata": {},
   "outputs": [],
   "source": [
    "#variable to store answer\n",
    "name=input(\"Enter your name: \")\n",
    "#I entered Mohit"
   ]
  },
  {
   "cell_type": "code",
   "execution_count": 8,
   "metadata": {},
   "outputs": [
    {
     "output_type": "stream",
     "name": "stdout",
     "text": "Hi Mohit\n"
    }
   ],
   "source": [
    "#Usign the input\n",
    "print(\"Hi\",name)"
   ]
  },
  {
   "cell_type": "code",
   "execution_count": 10,
   "metadata": {},
   "outputs": [
    {
     "output_type": "stream",
     "name": "stdout",
     "text": "How was your day? Rate between 1 to 10\n"
    }
   ],
   "source": [
    "#Activity 3: Using the input() Function to Rate Your Day\n",
    "print(\"How was your day? Rate between 1 to 10\")"
   ]
  },
  {
   "cell_type": "code",
   "execution_count": 11,
   "metadata": {},
   "outputs": [],
   "source": [
    "rate=input()\n",
    "#I gave an input of 7"
   ]
  },
  {
   "cell_type": "code",
   "execution_count": 12,
   "metadata": {},
   "outputs": [
    {
     "output_type": "stream",
     "name": "stdout",
     "text": "You gave a rating of 7\n"
    }
   ],
   "source": [
    "print(\"You gave a rating of {}\".format(rate))"
   ]
  },
  {
   "cell_type": "code",
   "execution_count": 14,
   "metadata": {},
   "outputs": [
    {
     "output_type": "execute_result",
     "data": {
      "text/plain": "'h'"
     },
     "metadata": {},
     "execution_count": 14
    }
   ],
   "source": [
    "#Indexing\n",
    "name=\"Mohit Yadav\"\n",
    "name[2]"
   ]
  },
  {
   "cell_type": "code",
   "execution_count": 16,
   "metadata": {},
   "outputs": [
    {
     "output_type": "execute_result",
     "data": {
      "text/plain": "'t Y'"
     },
     "metadata": {},
     "execution_count": 16
    }
   ],
   "source": [
    "#Slicing\n",
    "#Space is also counted\n",
    "name[4:7]"
   ]
  },
  {
   "cell_type": "code",
   "execution_count": 17,
   "metadata": {},
   "outputs": [
    {
     "output_type": "execute_result",
     "data": {
      "text/plain": "'Mohit Y'"
     },
     "metadata": {},
     "execution_count": 17
    }
   ],
   "source": [
    "#other ways of slicing\n",
    "#To get n letter from beginning\n",
    "name[:7]"
   ]
  },
  {
   "cell_type": "code",
   "execution_count": 21,
   "metadata": {},
   "outputs": [
    {
     "output_type": "execute_result",
     "data": {
      "text/plain": "'dav'"
     },
     "metadata": {},
     "execution_count": 21
    }
   ],
   "source": [
    "#To get letters from the end\n",
    "#indexing start from -1 from end\n",
    "name[-3:]"
   ]
  },
  {
   "cell_type": "code",
   "execution_count": 22,
   "metadata": {},
   "outputs": [
    {
     "output_type": "execute_result",
     "data": {
      "text/plain": "bool"
     },
     "metadata": {},
     "execution_count": 22
    }
   ],
   "source": [
    "#Boolean Variables\n",
    "#Exercise 13\n",
    "over_18=True\n",
    "type(over_18)"
   ]
  },
  {
   "cell_type": "code",
   "execution_count": 23,
   "metadata": {},
   "outputs": [
    {
     "output_type": "execute_result",
     "data": {
      "text/plain": "bool"
     },
     "metadata": {},
     "execution_count": 23
    }
   ],
   "source": [
    "over_18=False\n",
    "type(over_18)"
   ]
  },
  {
   "cell_type": "code",
   "execution_count": 24,
   "metadata": {},
   "outputs": [
    {
     "output_type": "execute_result",
     "data": {
      "text/plain": "True"
     },
     "metadata": {},
     "execution_count": 24
    }
   ],
   "source": [
    "#Using logical operators with boolean\n",
    "a=True\n",
    "b=True\n",
    "c=False\n",
    "d=False\n",
    "#Using And operator\n",
    "a and b"
   ]
  },
  {
   "cell_type": "code",
   "execution_count": 25,
   "metadata": {},
   "outputs": [
    {
     "output_type": "execute_result",
     "data": {
      "text/plain": "False"
     },
     "metadata": {},
     "execution_count": 25
    }
   ],
   "source": [
    "#AND shows true only when both are true\n",
    "a and c"
   ]
  },
  {
   "cell_type": "code",
   "execution_count": 26,
   "metadata": {},
   "outputs": [
    {
     "output_type": "execute_result",
     "data": {
      "text/plain": "True"
     },
     "metadata": {},
     "execution_count": 26
    }
   ],
   "source": [
    "#Using OR operator\n",
    "a or b"
   ]
  },
  {
   "cell_type": "code",
   "execution_count": 27,
   "metadata": {},
   "outputs": [
    {
     "output_type": "execute_result",
     "data": {
      "text/plain": "True"
     },
     "metadata": {},
     "execution_count": 27
    }
   ],
   "source": [
    "#OR shows true when either is true\n",
    "a or c"
   ]
  },
  {
   "cell_type": "code",
   "execution_count": 28,
   "metadata": {},
   "outputs": [
    {
     "output_type": "execute_result",
     "data": {
      "text/plain": "False"
     },
     "metadata": {},
     "execution_count": 28
    }
   ],
   "source": [
    "c or d"
   ]
  },
  {
   "cell_type": "code",
   "execution_count": 29,
   "metadata": {},
   "outputs": [
    {
     "output_type": "execute_result",
     "data": {
      "text/plain": "False"
     },
     "metadata": {},
     "execution_count": 29
    }
   ],
   "source": [
    "#Using NOT operator, it negates the boolean value\n",
    "not a"
   ]
  },
  {
   "cell_type": "code",
   "execution_count": 30,
   "metadata": {},
   "outputs": [
    {
     "output_type": "execute_result",
     "data": {
      "text/plain": "True"
     },
     "metadata": {},
     "execution_count": 30
    }
   ],
   "source": [
    "not c"
   ]
  },
  {
   "cell_type": "code",
   "execution_count": 31,
   "metadata": {},
   "outputs": [
    {
     "output_type": "execute_result",
     "data": {
      "text/plain": "False"
     },
     "metadata": {},
     "execution_count": 31
    }
   ],
   "source": [
    "over_18=True\n",
    "over_21=False\n",
    "over_18 and over_21"
   ]
  },
  {
   "cell_type": "code",
   "execution_count": 32,
   "metadata": {},
   "outputs": [
    {
     "output_type": "execute_result",
     "data": {
      "text/plain": "True"
     },
     "metadata": {},
     "execution_count": 32
    }
   ],
   "source": [
    "#When one is true and other is false\n",
    "over_18 or over_21"
   ]
  },
  {
   "cell_type": "code",
   "execution_count": 33,
   "metadata": {},
   "outputs": [
    {
     "output_type": "execute_result",
     "data": {
      "text/plain": "False"
     },
     "metadata": {},
     "execution_count": 33
    }
   ],
   "source": [
    "#over_18 is true \n",
    "not over_18"
   ]
  },
  {
   "cell_type": "code",
   "execution_count": 34,
   "metadata": {},
   "outputs": [
    {
     "output_type": "execute_result",
     "data": {
      "text/plain": "True"
     },
     "metadata": {},
     "execution_count": 34
    }
   ],
   "source": [
    "over_21 or (over_21 or over_18)"
   ]
  },
  {
   "cell_type": "code",
   "execution_count": 35,
   "metadata": {},
   "outputs": [
    {
     "output_type": "execute_result",
     "data": {
      "text/plain": "False"
     },
     "metadata": {},
     "execution_count": 35
    }
   ],
   "source": [
    "age=20\n",
    "age<13"
   ]
  },
  {
   "cell_type": "code",
   "execution_count": 36,
   "metadata": {},
   "outputs": [
    {
     "output_type": "execute_result",
     "data": {
      "text/plain": "True"
     },
     "metadata": {},
     "execution_count": 36
    }
   ],
   "source": [
    "age>=20 and age<=21"
   ]
  },
  {
   "cell_type": "code",
   "execution_count": 37,
   "metadata": {},
   "outputs": [
    {
     "output_type": "execute_result",
     "data": {
      "text/plain": "False"
     },
     "metadata": {},
     "execution_count": 37
    }
   ],
   "source": [
    "age != 20"
   ]
  },
  {
   "cell_type": "code",
   "execution_count": 38,
   "metadata": {},
   "outputs": [
    {
     "output_type": "execute_result",
     "data": {
      "text/plain": "True"
     },
     "metadata": {},
     "execution_count": 38
    }
   ],
   "source": [
    "age != 21"
   ]
  },
  {
   "cell_type": "code",
   "execution_count": 39,
   "metadata": {},
   "outputs": [
    {
     "output_type": "execute_result",
     "data": {
      "text/plain": "False"
     },
     "metadata": {},
     "execution_count": 39
    }
   ],
   "source": [
    "age==19"
   ]
  },
  {
   "cell_type": "code",
   "execution_count": 40,
   "metadata": {},
   "outputs": [
    {
     "output_type": "execute_result",
     "data": {
      "text/plain": "True"
     },
     "metadata": {},
     "execution_count": 40
    }
   ],
   "source": [
    "6==6.0"
   ]
  },
  {
   "cell_type": "code",
   "execution_count": 41,
   "metadata": {},
   "outputs": [
    {
     "output_type": "execute_result",
     "data": {
      "text/plain": "False"
     },
     "metadata": {},
     "execution_count": 41
    }
   ],
   "source": [
    "6==\"6\""
   ]
  },
  {
   "cell_type": "code",
   "execution_count": 42,
   "metadata": {},
   "outputs": [
    {
     "output_type": "execute_result",
     "data": {
      "text/plain": "True"
     },
     "metadata": {},
     "execution_count": 42
    }
   ],
   "source": [
    "#Testingif someone is in their 20's or 30's\n",
    "age=24\n",
    "(age>=20 and age<30) or (age>=30 and age<40)"
   ]
  },
  {
   "cell_type": "code",
   "execution_count": 43,
   "metadata": {},
   "outputs": [
    {
     "output_type": "execute_result",
     "data": {
      "text/plain": "True"
     },
     "metadata": {},
     "execution_count": 43
    }
   ],
   "source": [
    "age>=20 and age<30 or age>=30 and age<40"
   ]
  },
  {
   "cell_type": "code",
   "execution_count": 44,
   "metadata": {},
   "outputs": [
    {
     "output_type": "execute_result",
     "data": {
      "text/plain": "True"
     },
     "metadata": {},
     "execution_count": 44
    }
   ],
   "source": [
    "#Another approach\n",
    "(20<=age<30) or (30<=age<40)"
   ]
  },
  {
   "cell_type": "code",
   "execution_count": 45,
   "metadata": {},
   "outputs": [
    {
     "output_type": "execute_result",
     "data": {
      "text/plain": "True"
     },
     "metadata": {},
     "execution_count": 45
    }
   ],
   "source": [
    "#Comparing strings\n",
    "\"a\"<\"c\""
   ]
  },
  {
   "cell_type": "code",
   "execution_count": 46,
   "metadata": {},
   "outputs": [
    {
     "output_type": "execute_result",
     "data": {
      "text/plain": "False"
     },
     "metadata": {},
     "execution_count": 46
    }
   ],
   "source": [
    "#Think in terms of dictionary\n",
    "\"New York\">\"San Francisco\""
   ]
  },
  {
   "cell_type": "code",
   "execution_count": 47,
   "metadata": {},
   "outputs": [
    {
     "output_type": "stream",
     "name": "stdout",
     "text": "You aren't applicable to vote.\n"
    }
   ],
   "source": [
    "#CONDITIONALS\n",
    "#The if conditional\n",
    "age=17\n",
    "if age<18:\n",
    "    print(\"You aren't applicable to vote.\")"
   ]
  },
  {
   "cell_type": "code",
   "execution_count": 50,
   "metadata": {},
   "outputs": [
    {
     "output_type": "stream",
     "name": "stdout",
     "text": "You can vote.\n"
    }
   ],
   "source": [
    "#Using nested statements\n",
    "age=19\n",
    "if age>=18:\n",
    "    print(\"You can vote.\")\n",
    "    if age>=21:\n",
    "        print(\"You can play poker\")\n",
    "    "
   ]
  },
  {
   "cell_type": "code",
   "execution_count": 54,
   "metadata": {},
   "outputs": [
    {
     "output_type": "stream",
     "name": "stdout",
     "text": "Welcome! to the voting program\n"
    }
   ],
   "source": [
    "#Using if-else loop\n",
    "if age>=18:\n",
    "    print(\"Welcome! to the voting program\")\n",
    "else:\n",
    "    print('You aren\\'t allowed to vote')"
   ]
  },
  {
   "cell_type": "code",
   "execution_count": 55,
   "metadata": {},
   "outputs": [
    {
     "output_type": "execute_result",
     "data": {
      "text/plain": "'DAY 3 ENDS HERE \\n   TIME SPENT IS 1 HOUR'"
     },
     "metadata": {},
     "execution_count": 55
    }
   ],
   "source": [
    "\"\"\"DAY 3 ENDS HERE \n",
    "   TIME SPENT IS 1 HOUR\"\"\""
   ]
  },
  {
   "cell_type": "code",
   "execution_count": 2,
   "metadata": {},
   "outputs": [
    {
     "output_type": "execute_result",
     "data": {
      "text/plain": "'DAY 4 BEGINS HERE'"
     },
     "metadata": {},
     "execution_count": 2
    }
   ],
   "source": [
    "\"\"\"DAY 4 BEGINS HERE\"\"\""
   ]
  },
  {
   "cell_type": "code",
   "execution_count": 4,
   "metadata": {},
   "outputs": [
    {
     "output_type": "stream",
     "name": "stdout",
     "text": "Seize the day.\n"
    }
   ],
   "source": [
    "#The elif statement\n",
    "age=28\n",
    "if age <= 10:\n",
    "    print('Listen, learn, and have fun.')\n",
    "elif age<= 19:\n",
    "    print('Go fearlessly forward.')\n",
    "elif age <= 29:\n",
    "    print('Seize the day.')\n",
    "elif age <= 39:\n",
    "    print('Go for what you want.')\n",
    "elif age <= 59:\n",
    "    print('Stay physically ft and healthy.')\n",
    "else:\n",
    "    print('Each day is magical.')"
   ]
  },
  {
   "cell_type": "code",
   "execution_count": 10,
   "metadata": {},
   "outputs": [
    {
     "output_type": "stream",
     "name": "stdout",
     "text": "1\n2\n3\n4\n5\n6\n7\n8\n9\n10\n"
    }
   ],
   "source": [
    "#The while loop\n",
    "#The statements inside the loop are executed as long as the statements are true\n",
    "i=1\n",
    "while i<=10:\n",
    "    print(i)\n",
    "    i+=1"
   ]
  },
  {
   "cell_type": "code",
   "execution_count": 11,
   "metadata": {},
   "outputs": [
    {
     "output_type": "stream",
     "name": "stdout",
     "text": "no. found 102\n"
    }
   ],
   "source": [
    "#break - a python keyword , breaks the loop\n",
    "x=100\n",
    "while x<=1000:\n",
    "    x=x+1\n",
    "    if x%17==0:\n",
    "        print(\"no. found\",x )\n",
    "        break \n",
    "#loop breaks as soon as it finds a no. divisible by 17         "
   ]
  },
  {
   "cell_type": "code",
   "execution_count": 2,
   "metadata": {},
   "outputs": [
    {
     "output_type": "stream",
     "name": "stdout",
     "text": "lcm found 12\n"
    }
   ],
   "source": [
    "#Activity 4: Finding LCM of two numbers\n",
    "a=4\n",
    "b=6\n",
    "lcm=1\n",
    "condition=True\n",
    "while lcm>=0:\n",
    "    if lcm%a==0 and lcm%b==0:\n",
    "        print(\"lcm found\",lcm)\n",
    "        break\n",
    "    lcm=lcm+1 "
   ]
  },
  {
   "cell_type": "code",
   "execution_count": 4,
   "metadata": {},
   "outputs": [
    {
     "output_type": "stream",
     "name": "stdout",
     "text": "It is square of 4\n"
    }
   ],
   "source": [
    "#Exercise 18 : Calculating Perfecting squares\n",
    "number = input(\"Enter number\")\n",
    "square = False\n",
    "number = abs(int(number))\n",
    "i = -1\n",
    "while i<=number**(0.5):\n",
    "    i=i+1\n",
    "    if i*i==number:\n",
    "        print(\"It is square of\",i)\n",
    "        break\n",
    "#I entered 16      "
   ]
  },
  {
   "cell_type": "code",
   "execution_count": 2,
   "metadata": {},
   "outputs": [
    {
     "output_type": "stream",
     "name": "stdout",
     "text": "A one bedroom in the Bay Area is listed at $599,000\nEnter your first offer on the house.\nEnter your best offer on the house.\nHow much more do you want to offer each time?\nWe're sorry, you're offer of 500000 has not been accepted.\nWe're sorry, you're offer of 550000 has not been accepted.\nWe're sorry, you're offer of 600000 has not been accepted.\nYour offer of 650000 has been accepted!\n"
    }
   ],
   "source": [
    "print('A one bedroom in the Bay Area is listed at $599,000')\n",
    "print('Enter your first offer on the house.')\n",
    "offer = abs(int(input()))\n",
    "print('Enter your best offer on the house.')\n",
    "best = abs(int(input()))\n",
    "print('How much more do you want to offer each time?')\n",
    "increment = abs(int(input()))\n",
    "offer_accepted = False\n",
    "while offer <= best:  \n",
    "    if offer >= 650000:\n",
    "        offer_accepted = True\n",
    "        print('Your offer of', offer, 'has been accepted!')\n",
    "        break\n",
    "    else:\n",
    "        print('We\\'re sorry, you\\'re offer of', offer, 'has not been accepted.' )\n",
    "    offer += increment"
   ]
  },
  {
   "cell_type": "code",
   "execution_count": 3,
   "metadata": {},
   "outputs": [
    {
     "output_type": "stream",
     "name": "stdout",
     "text": "P\no\nr\nt\nl\na\nn\nd\n"
    }
   ],
   "source": [
    "#Using the for loop\n",
    "#Similar to while loop\n",
    "#Have advantages and can iterate on strings and other objects\n",
    "for i in \"Portland\":\n",
    "    print(i)"
   ]
  },
  {
   "cell_type": "code",
   "execution_count": 4,
   "metadata": {},
   "outputs": [
    {
     "output_type": "stream",
     "name": "stdout",
     "text": "1\n2\n3\n4\n5\n6\n7\n8\n9\n"
    }
   ],
   "source": [
    "#USing range() in for loops\n",
    "for i in range(1,10):\n",
    "    print(i)"
   ]
  },
  {
   "cell_type": "code",
   "execution_count": null,
   "metadata": {},
   "outputs": [],
   "source": [
    "str1=\"String1\"\n",
    "print(str1)\n",
    "str2=\"String2\"\n",
    "str2"
   ]
  },
  {
   "cell_type": "code",
   "execution_count": 1,
   "metadata": {},
   "outputs": [
    {
     "output_type": "stream",
     "name": "stdout",
     "text": "['breads', 'milk', 'eggs']\n"
    }
   ],
   "source": [
    "#Working with lists\n",
    "shopping=[\"breads\",'milk','eggs']\n",
    "print(shopping)"
   ]
  },
  {
   "cell_type": "code",
   "execution_count": 2,
   "metadata": {},
   "outputs": [
    {
     "output_type": "stream",
     "name": "stdout",
     "text": "breads\nmilk\neggs\n"
    }
   ],
   "source": [
    "#USing for loop to iterate through it\n",
    "for i in shopping:\n",
    "    print(i)"
   ]
  },
  {
   "cell_type": "code",
   "execution_count": 3,
   "metadata": {},
   "outputs": [
    {
     "output_type": "stream",
     "name": "stdout",
     "text": "[365, 'days', True]\n"
    }
   ],
   "source": [
    "#List can different types of data\n",
    "mixed=[365,\"days\",True]\n",
    "print(mixed)"
   ]
  },
  {
   "cell_type": "code",
   "execution_count": 4,
   "metadata": {},
   "outputs": [
    {
     "output_type": "stream",
     "name": "stdout",
     "text": "5\n"
    }
   ],
   "source": [
    "#CReating a martrice using list\n",
    "#Create a nested list\n",
    "l1=[[1,2,3],[4,5,6]]\n",
    "#Getting the elements from the matrice\n",
    "#input the value as [row][column]\n",
    "print(l1[1][1])\n",
    "#gives value of 5 since we are using a 0 based index offset"
   ]
  },
  {
   "cell_type": "code",
   "execution_count": 6,
   "metadata": {},
   "outputs": [
    {
     "output_type": "stream",
     "name": "stdout",
     "text": "1\n2\n3\n4\n5\n6\n"
    }
   ],
   "source": [
    "#This for loop prints all the elements of the matrix\n",
    "for i in range(len(l1)):\n",
    "    for j in range(len(l1[i])):\n",
    "        print(l1[i][j])"
   ]
  },
  {
   "cell_type": "code",
   "execution_count": 8,
   "metadata": {},
   "outputs": [
    {
     "output_type": "stream",
     "name": "stdout",
     "text": "1\n2\n3\n4\n5\n6\n"
    }
   ],
   "source": [
    "#Another way to do the same using the for loop\n",
    "for row in l1:\n",
    "    for col in row:\n",
    "        print(col)"
   ]
  },
  {
   "cell_type": "code",
   "execution_count": 9,
   "metadata": {},
   "outputs": [
    {
     "output_type": "execute_result",
     "data": {
      "text/plain": "[['John Mckee', 38, 'Sales'],\n ['Lisa Crawford', 29, 'Marketiing'],\n ['Sujal Patel', 33, 'HR']]"
     },
     "metadata": {},
     "execution_count": 9
    }
   ],
   "source": [
    "#Activity 6 : Using a nested list to store employee data\n",
    "employees=[['John Mckee', 38,'Sales'],['Lisa Crawford',29,'Marketiing'],['Sujal Patel',33,'HR']]\n",
    "print(employees)"
   ]
  },
  {
   "cell_type": "code",
   "execution_count": 10,
   "metadata": {},
   "outputs": [
    {
     "output_type": "stream",
     "name": "stdout",
     "text": "['John Mckee', 38, 'Sales']\n['Lisa Crawford', 29, 'Marketiing']\n['Sujal Patel', 33, 'HR']\n"
    }
   ],
   "source": [
    "for employee in employees:\n",
    "    print(employee)"
   ]
  },
  {
   "cell_type": "code",
   "execution_count": 12,
   "metadata": {},
   "outputs": [
    {
     "output_type": "stream",
     "name": "stdout",
     "text": "['Lisa Crawford', 29, 'Marketiing']\n"
    }
   ],
   "source": [
    "employee=employees[1]\n",
    "print(employee)"
   ]
  },
  {
   "cell_type": "code",
   "execution_count": 13,
   "metadata": {},
   "outputs": [
    {
     "output_type": "stream",
     "name": "stdout",
     "text": "Name:  Lisa Crawford\nAge:  29\nDepartment:  Marketiing\n"
    }
   ],
   "source": [
    "print('Name: ',employee[0])\n",
    "print('Age: ',employee[1])\n",
    "print('Department: ',employee[2])"
   ]
  },
  {
   "cell_type": "code",
   "execution_count": 15,
   "metadata": {},
   "outputs": [
    {
     "output_type": "stream",
     "name": "stdout",
     "text": "Name: John Mckee\nAge: 38\nDepartment: Sales\n--------------------\nName: Lisa Crawford\nAge: 29\nDepartment: Marketiing\n--------------------\nName: Sujal Patel\nAge: 33\nDepartment: HR\n--------------------\n"
    }
   ],
   "source": [
    "for employee in employees:\n",
    "    print('Name:',employee[0])\n",
    "    print('Age:',employee[1])\n",
    "    print('Department:',employee[2])\n",
    "    print('-'*20)"
   ]
  },
  {
   "cell_type": "code",
   "execution_count": 3,
   "metadata": {},
   "outputs": [
    {
     "output_type": "stream",
     "name": "stdout",
     "text": "[[11, 13, 15], [17, 19, 21], [23, 25, 27]]\n"
    }
   ],
   "source": [
    "#Doing matrix operations\n",
    "#Create three matrices\n",
    "X=[[1,2,3],[4,5,6],[7,8,9]]\n",
    "Y=[[10,11,12],[13,14,15],[16,17,18]]\n",
    "result=[[0,0,0],[0,0,0],[0,0,0]]\n",
    "#iterate through the rows\n",
    "for i in range(len(X)):\n",
    "    #iterate through the columns\n",
    "    for j in range(len(X[0])):\n",
    "        result[i][j]=X[i][j] + Y[i][j]\n",
    "print(result)        "
   ]
  },
  {
   "cell_type": "code",
   "execution_count": 4,
   "metadata": {},
   "outputs": [
    {
     "output_type": "stream",
     "name": "stdout",
     "text": "[[-9, -9, -9], [-9, -9, -9], [-9, -9, -9]]\n"
    }
   ],
   "source": [
    "#Doing suubtraction\n",
    "result=[[0,0,0],[0,0,0],[0,0,0]]\n",
    "#iterate through the rows\n",
    "for i in range(len(X)):\n",
    "    #iterate through the columns\n",
    "    for j in range(len(X[0])):\n",
    "        result[i][j]=X[i][j] - Y[i][j]\n",
    "print(result) "
   ]
  },
  {
   "cell_type": "code",
   "execution_count": 9,
   "metadata": {},
   "outputs": [
    {
     "output_type": "stream",
     "name": "stdout",
     "text": "[11, 14, 17, 20]\n[29, 38, 47, 56]\n[33, 42, 51, 60]\n"
    }
   ],
   "source": [
    "#Matrix Multiplication\n",
    "X=[[1,2],[4,5],[3,6]]\n",
    "Y=[[1,2,3,4],[5,6,7,8]]\n",
    "result=[[0,0,0,0],[0,0,0,0],[0,0,0,0]]\n",
    "#iterating by row of A\n",
    "for i in range(len(X)):\n",
    "    #iterating by column by B\n",
    "    for j in range(len(Y[0])):\n",
    "        #iterating by rows of B\n",
    "        for k in range(len(Y)):\n",
    "            result[i][j]+=X[i][k]*Y[k][j]\n",
    "for r in result:\n",
    "                print(r)           \n",
    ""
   ]
  },
  {
   "cell_type": "code",
   "execution_count": 1,
   "metadata": {},
   "outputs": [
    {
     "output_type": "stream",
     "name": "stdout",
     "text": "3\n"
    }
   ],
   "source": [
    "#LIst methods\n",
    "#using len() to give the no. of elements in a list\n",
    "list_1=[1,2,3]\n",
    "print(len(list_1))"
   ]
  },
  {
   "cell_type": "code",
   "execution_count": 2,
   "metadata": {},
   "outputs": [
    {
     "output_type": "stream",
     "name": "stdout",
     "text": "[1, 2, 3, 4, 5, 6]\n"
    }
   ],
   "source": [
    "list_2=[4,5,6]\n",
    "#using \"+\" OPERATOR to concatenate lists\n",
    "final_list=list_1+list_2\n",
    "print(final_list)"
   ]
  },
  {
   "cell_type": "code",
   "execution_count": 3,
   "metadata": {},
   "outputs": [
    {
     "output_type": "stream",
     "name": "stdout",
     "text": "['oi', 'oi', 'oi']\n"
    }
   ],
   "source": [
    "#using \"*\" to duplicate lists\n",
    "list_3=['oi']\n",
    "print(list_3*3)"
   ]
  },
  {
   "cell_type": "code",
   "execution_count": 7,
   "metadata": {},
   "outputs": [
    {
     "output_type": "stream",
     "name": "stdout",
     "text": "milk\n"
    }
   ],
   "source": [
    "#Using indexing to access the elements ina list\n",
    "shopping = [\"bread\",\"milk\", \"eggs\"]\n",
    "print(shopping[1])"
   ]
  },
  {
   "cell_type": "code",
   "execution_count": 8,
   "metadata": {},
   "outputs": [
    {
     "output_type": "stream",
     "name": "stdout",
     "text": "['bread', 'milk', 'eggs']\n['bread', 'Banana', 'eggs']\n"
    }
   ],
   "source": [
    "#Using index to change the elemnts\n",
    "print(shopping)\n",
    "shopping[1]='Banana'\n",
    "print(shopping)"
   ]
  },
  {
   "cell_type": "code",
   "execution_count": 9,
   "metadata": {},
   "outputs": [
    {
     "output_type": "stream",
     "name": "stdout",
     "text": "['bread', 'Banana']\n"
    }
   ],
   "source": [
    "# Using SLICING, the second value is non-inclusive\n",
    "print(shopping[0:2])"
   ]
  },
  {
   "cell_type": "code",
   "execution_count": 10,
   "metadata": {},
   "outputs": [
    {
     "output_type": "stream",
     "name": "stdout",
     "text": "['bread', 'Banana', 'eggs']\n"
    }
   ],
   "source": [
    "print(shopping[:3])"
   ]
  },
  {
   "cell_type": "code",
   "execution_count": 11,
   "metadata": {},
   "outputs": [
    {
     "output_type": "stream",
     "name": "stdout",
     "text": "['Banana', 'eggs']\n"
    }
   ],
   "source": [
    "print(shopping[1:])#bread is at index 0"
   ]
  },
  {
   "cell_type": "code",
   "execution_count": 12,
   "metadata": {},
   "outputs": [
    {
     "output_type": "stream",
     "name": "stdout",
     "text": "['bread', 'Banana', 'eggs', 'apples']\n"
    }
   ],
   "source": [
    "#Adding elements to a list \n",
    "#Using append method, adds elements to end of a list\n",
    "shopping.append(\"apples\")\n",
    "print(shopping)"
   ]
  },
  {
   "cell_type": "code",
   "execution_count": 13,
   "metadata": {},
   "outputs": [
    {
     "output_type": "stream",
     "name": "stdout",
     "text": "['Bread', 'Butter', 'Eggs', 'Apple']\n"
    }
   ],
   "source": [
    "#append() used when we don't know how many elements will be there in the list\n",
    "shopping=[]#created an empty list\n",
    "shopping.append('Bread')\n",
    "shopping.append('Butter')\n",
    "shopping.append('Eggs')\n",
    "shopping.append('Apple')\n",
    "print(shopping)"
   ]
  },
  {
   "cell_type": "code",
   "execution_count": 14,
   "metadata": {},
   "outputs": [
    {
     "output_type": "stream",
     "name": "stdout",
     "text": "['Bread', 'Carrot', 'Butter', 'Eggs', 'Apple']\n"
    }
   ],
   "source": [
    "#using insert() method\n",
    "#Required two things\n",
    "#insert(positional index, element)\n",
    "shopping.insert(1,\"Carrot\")\n",
    "print(shopping)"
   ]
  },
  {
   "cell_type": "code",
   "execution_count": 17,
   "metadata": {},
   "outputs": [
    {
     "output_type": "stream",
     "name": "stdout",
     "text": "Mohit\n"
    }
   ],
   "source": [
    "#Using dictionaries\n",
    "#written within curly brackets and have keys and values\n",
    "employee= {\n",
    "    'name':'Mohit',\n",
    "    'age':17,\n",
    "    'department': 'learning'\n",
    "}\n",
    "print(employee[\"name\"])"
   ]
  },
  {
   "cell_type": "code",
   "execution_count": 18,
   "metadata": {},
   "outputs": [
    {
     "output_type": "stream",
     "name": "stdout",
     "text": "1972\n"
    }
   ],
   "source": [
    "#USing dictionary to store a movie record\n",
    "movie = {\n",
    "    \"title\": \"The Godfather\",\n",
    "    \"director\": \"Francis Ford Coppola\",\n",
    "    \"year\": 1972,\n",
    "    \"rating\": 9.2\n",
    "}\n",
    "print(movie['year'])"
   ]
  },
  {
   "cell_type": "code",
   "execution_count": 19,
   "metadata": {},
   "outputs": [
    {
     "output_type": "stream",
     "name": "stdout",
     "text": "Updating values 9.2\nAfter updating 9.5\n"
    }
   ],
   "source": [
    "print('Updating values',movie['rating'])\n",
    "movie['rating']=9.5\n",
    "print('After updating',movie['rating'])"
   ]
  },
  {
   "cell_type": "code",
   "execution_count": 22,
   "metadata": {},
   "outputs": [
    {
     "output_type": "stream",
     "name": "stdout",
     "text": "Updating values 12.5\nAfter updating 6.5\n"
    }
   ],
   "source": [
    "#Different ways\n",
    "print('Updating values',movie['rating'])\n",
    "movie['rating']=9.5-3\n",
    "print('After updating',movie['rating'])"
   ]
  },
  {
   "cell_type": "code",
   "execution_count": 23,
   "metadata": {},
   "outputs": [
    {
     "output_type": "stream",
     "name": "stdout",
     "text": "Updating values 6.5\nAfter updating 9.5\n"
    }
   ],
   "source": [
    "print('Updating values',movie['rating'])\n",
    "movie['rating']=(movie['rating']+3)\n",
    "print('After updating',movie['rating'])"
   ]
  },
  {
   "cell_type": "code",
   "execution_count": 24,
   "metadata": {},
   "outputs": [],
   "source": [
    "#Cretaing a dictionary from scratch and updating values\n",
    "movie={}\n",
    "#Dict_name[\"Key\"]=\"Value\"\n",
    "movie[\"title\"]=\"The Godfather\"\n",
    "movie[\"director\"]=\"Francis Ford\"\n",
    "movie[\"year\"]=1972\n",
    "movie[\"rating\"]=9.2"
   ]
  },
  {
   "cell_type": "code",
   "execution_count": 25,
   "metadata": {},
   "outputs": [
    {
     "output_type": "stream",
     "name": "stdout",
     "text": "{'title': 'The Godfather', 'director': 'Francis Ford', 'year': 1972, 'rating': 9.2, 'actors': ['Marlon Brando', 'Al Pacino', 'James Caan'], 'other_details': {'runtime': 175, 'language': 'English'}}\n"
    }
   ],
   "source": [
    "#Storing a list inside a dict\n",
    "movie['actors'] = ['Marlon Brando', 'Al Pacino', 'James Caan']\n",
    "#Add dict inside a dict\n",
    "movie['other_details'] = {\n",
    "    'runtime': 175,\n",
    "    'language': 'English'\n",
    "}\n",
    "print(movie)"
   ]
  },
  {
   "cell_type": "code",
   "execution_count": null,
   "metadata": {},
   "outputs": [],
   "source": []
  }
 ]
}